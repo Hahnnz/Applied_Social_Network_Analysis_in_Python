{
 "cells": [
  {
   "cell_type": "markdown",
   "metadata": {},
   "source": [
    "# Applied Social Network Analysis in Python\n",
    "\n",
    "## Chapter 2-1. Clustering Coefficient\n",
    "* **[Lecture video](https://www.coursera.org/lecture/python-social-network-analysis/clustering-coefficient-ZhNvi)**\n",
    "\n",
    "<hr>\n",
    "\n",
    "**We are going to focus on how to measure the network.**\n",
    "\n",
    "### Triadic Closure\n",
    "Triadic Closure : The tendency for people who share connections in a social network to become connected<br>\n",
    "Triadic Closure would say that those edges that closed triangles are good candidates for edges that may show up next.<br>\n",
    "So, all the red edges form closed triangles, and so, these are good candidates for edges that may show up\n",
    "\n",
    "**But How can we measure the prevalence of triadic closure in a network?**<br>\n",
    "We don't have a timestamp always, and don't know the ordering which edges come into network."
   ]
  },
  {
   "cell_type": "code",
   "execution_count": 1,
   "metadata": {},
   "outputs": [],
   "source": [
    "# Import NetworkX and set matplotlib enable to print in ipython notebook\n",
    "import networkx as nx\n",
    "import matplotlib.pyplot as plt\n",
    "%matplotlib inline"
   ]
  },
  {
   "cell_type": "code",
   "execution_count": 2,
   "metadata": {},
   "outputs": [
    {
     "data": {
      "image/png": "[encoded data removed]",
      "text/plain": [
       "<Figure size 432x288 with 1 Axes>"
      ]
     },
     "metadata": {},
     "output_type": "display_data"
    }
   ],
   "source": [
    "# Define of Graph Class\n",
    "G = nx.Graph()\n",
    "\n",
    "# make connections with its own color.\n",
    "# Red means a good candidates for edges that may show up next.\n",
    "# (node1, node2, color)\n",
    "Triadic_example = [('A', 'A', 'black'), \n",
    "                   ('A', 'C', 'black'), \n",
    "                   ('A', 'K', 'black'), \n",
    "                   ('B', 'K', 'black'), \n",
    "                   ('B', 'C', 'black'), \n",
    "                   ('C', 'F', 'black'), \n",
    "                   ('C', 'E', 'black'), \n",
    "                   ('E', 'F', 'black'), \n",
    "                   ('E', 'D', 'black'), \n",
    "                   ('E', 'H', 'black'), \n",
    "                   ('F', 'G', 'black'), \n",
    "                   #('I', 'J', 'black'), \n",
    "                   ('B', 'F', 'red'), \n",
    "                   ('C', 'D', 'red'), \n",
    "                   ('D', 'H', 'red'), \n",
    "                   ('H', 'F', 'red'), \n",
    "                  ]\n",
    "\n",
    "# Add edges with its relationship.\n",
    "for n1, n2, r in Triadic_example:\n",
    "    G.add_edge(n1, n2, role=r)\n",
    "    \n",
    "\n",
    "# Frame layout setting\n",
    "pos = nx.spring_layout(G, seed=201703) # Frame Layout setting to use\n",
    "\n",
    "# coloring differently by its own relationship\n",
    "for edge, role in nx.get_edge_attributes(G, 'role').items():\n",
    "    nx.draw_networkx_edges(G, pos, edgelist=[edge], edge_color = role) # draw edges with given color\n",
    "\n",
    "# add nodes with its labels\n",
    "nx.draw_networkx_nodes(G,pos, node_color='lightgreen')\n",
    "nx.draw_networkx_labels(G,pos)\n",
    "\n",
    "plt.show()"
   ]
  },
  {
   "cell_type": "markdown",
   "metadata": {},
   "source": [
    "<hr>\n",
    "\n",
    "### Local Clustering Coefficient\n",
    "\n",
    "we want to know whether Triadic Closure is present in this network, whether it has lots of triangles or not. <br>\n",
    "And so, what we're going to be talking about in this video is, how can we measure the prevalence of Triadic Closure in a network<br>\n",
    "\n",
    " * **Local Clustering Coefficient of a node** : Fraction of pairs of the node's friends that are friends with each other. <br>\n",
    "  ( measuring Clustering from the point of view of a single node )\n",
    "\n",
    "Compute the local clustering coefficient of node C by below :\n",
    "\n",
    "$$\n",
    "{number\\ of\\ C's\\ friends\\ who\\ are\\ friends \\over number\\ of\\ pairs\\ of\\ C's\\ friends}\n",
    "$$\n",
    "\n",
    "$$\n",
    "number\\ of\\ C's\\ friends = d_c = 4\\ (the\\ \"degree\"\\ of\\ C)\n",
    "$$\n",
    "\n",
    "$$\n",
    "number\\ of\\ pairs\\ of\\ C's\\ friends = {d_c(d_c-1) \\over 2} = {12\\over2} = 6\n",
    "$$\n",
    "\n",
    "$$\n",
    "number\\ of\\ pairs\\ of\\ C's\\ friends\\ who\\ are\\ friends = 2\n",
    "$$\n",
    "\n",
    "$$\n",
    "\\therefore\\ Local\\ Clustering\\ Coefficient\\ of\\ C = {2\\over6}={1\\over3}\n",
    "$$\n",
    "\n",
    "Sometimes, there is the node who has 0 pairs of friends like I and J. <br>\n",
    "In this situation, We will assume that the Local clsutering coefficient of a node of degree less than 2 to be 0 (and NetworkX also does).\n",
    "\n",
    "#### Local Clustering Coefficient in NetworkX\n",
    "```python\n",
    "G = nx.Graph()\n",
    "G.add_edges_from([('A','K'),('A','B'),('A','C'),('B','C'),('B','K'),('C','E'),('C','F'),('D','E'),('E','F'),('E','H'),('F','G'),('I','J'),])\n",
    "\n",
    "nx.clustering(G,'F')\n",
    "```\n",
    "> out : 0.3333333333333333\n",
    "\n",
    "```python\n",
    "nx.clustering(G,'A')\n",
    "```\n",
    "> out : 0.6666666666666666\n",
    "\n",
    "```python\n",
    "nx.clustering(G,'J')\n",
    "```\n",
    "> out : 0.0"
   ]
  },
  {
   "cell_type": "code",
   "execution_count": 3,
   "metadata": {},
   "outputs": [
    {
     "data": {
      "image/png": "[encoded data removed]",
      "text/plain": [
       "<Figure size 432x288 with 1 Axes>"
      ]
     },
     "metadata": {},
     "output_type": "display_data"
    }
   ],
   "source": [
    "# Define of Graph Class\n",
    "G = nx.Graph()\n",
    "\n",
    "# make connections with its own color.\n",
    "# (node1, node2, status)\n",
    "Triadic_example = [('A', 'A', 'connected'), \n",
    "                   ('A', 'C', 'connected'), \n",
    "                   ('A', 'K', 'connected'), \n",
    "                   ('B', 'K', 'connected'), \n",
    "                   ('B', 'C', 'connected'), \n",
    "                   ('C', 'F', 'connected'), \n",
    "                   ('C', 'E', 'connected'), \n",
    "                   ('E', 'F', 'connected'), \n",
    "                   ('E', 'D', 'connected'), \n",
    "                   ('E', 'H', 'connected'), \n",
    "                   ('F', 'G', 'connected'), \n",
    "                   ('I', 'J', 'connected'), \n",
    "                   ('A', 'B', 'C_friend'), # C's friends who are friends\n",
    "                   ('E', 'F', 'C_friend'), # C's friends who are friends\n",
    "                   ('A', 'F', 'virtual'), \n",
    "                   ('A', 'E', 'virtual'), \n",
    "                   ('B', 'E', 'virtual'), \n",
    "                   ('B', 'F', 'virtual'), ]\n",
    "\n",
    "# Role Info is consist of colors and style for each role\n",
    "role_info = {'connected' : ('black', 'solid'),\n",
    "             'C_friend' : ('red', 'solid'),\n",
    "             'virtual' : ('red', 'dashed'),\n",
    "            }\n",
    "\n",
    "# Add edges with its relationship.\n",
    "for n1, n2, r in Triadic_example:\n",
    "    G.add_edge(n1, n2, role=r)\n",
    "    \n",
    "\n",
    "# Frame layout setting\n",
    "pos = nx.spring_layout(G, seed=201703) # Frame Layout setting to use\n",
    "\n",
    "# coloring differently by its own relationship\n",
    "for edge, role in nx.get_edge_attributes(G, 'role').items():\n",
    "    color, style = role_info[role]\n",
    "    nx.draw_networkx_edges(G, pos, edgelist=[edge], edge_color = color, style = style) # draw edges with given color\n",
    "\n",
    "# add nodes with its labels\n",
    "nx.draw_networkx_nodes(G,pos, node_color='lightgreen')\n",
    "nx.draw_networkx_labels(G,pos)\n",
    "\n",
    "plt.show()"
   ]
  },
  {
   "cell_type": "markdown",
   "metadata": {},
   "source": [
    "<hr>\n",
    "\n",
    "### Global Clustering Coefficient\n",
    "\n",
    "Measuring clustering on the whole network : \n",
    "* [ Approach 1 ] : Average local clustering coefficient over all nodes in the graph.<br>\n",
    "\n",
    "  It is quiet simple, all you need to do is just sum all cluster coefficient of each nodes.\n",
    "\n",
    "  ```python\n",
    "  G = nx.Graph()\n",
    "  G.add_edges_from([('A','K'),('A','B'),('A','C'),('B','C'),('B','K'),('C','E'),('C','F'),('D','E'),('E','F'),('E','H'),('F','G'),('I','J'),])\n",
    "  nx.average_clustering(G)\n",
    "  ```\n",
    "  > out : 0.28787878787878785\n",
    "\n",
    "* [ Approach 2 ] : Percentage of \"open triads\" that are triangles in a network.\n",
    "  * Open triads : three nodes with two edges between them. and we can count it as \"3 open triads (3nodes)\"\n",
    "  * Closed triads : three nodes with three edges between them, which is called \"triangle\" usually. and we can count it as \"3 closed triads (3nodes)\"\n",
    "  \n",
    "  <br>\n",
    "  So, let's calculate how many triangles, which means how many possible open triads, the graph has.\n",
    "  \n",
    "  you can get the second approch measurement called **`Transitivity`** .\n",
    "\n",
    "  $$\n",
    "  Transitivity = {3 \\times Number\\ of\\ closed\\ triads \\over Number\\ of\\ open\\ triads}\n",
    "  $$\n",
    "\n",
    "  you can get Transitivity by networkx using following : \n",
    "  \n",
    "  ```python\n",
    "  nx.transitivity(G)\n",
    "  ```\n",
    "  > out : 0.4090909090909091\n",
    "\n",
    "<hr>\n",
    "\n",
    "### **Transitivity** vs **Average Clustering Coefficient**\n",
    "\n",
    "Both measure the tendency for edges to form triangles. \n",
    "Transitivity wieghts nodes with large degree higher.\n",
    "\n",
    "The Below case shows following properties :\n",
    "* Most nodes have hight LCC\n",
    "* the high degree node has low LCC\n",
    "\n",
    "Network Average Clustering Coefficient : 0.93006993006993<br>\n",
    "Network Transitivity : 0.23076923076923078"
   ]
  },
  {
   "cell_type": "code",
   "execution_count": 4,
   "metadata": {},
   "outputs": [
    {
     "data": {
      "image/png": "[encoded data removed]",
      "text/plain": [
       "<Figure size 432x288 with 1 Axes>"
      ]
     },
     "metadata": {},
     "output_type": "display_data"
    },
    {
     "name": "stdout",
     "output_type": "stream",
     "text": [
      "Network Average Clustering Coefficient : 0.93006993006993\n",
      "Network Transitivity : 0.23076923076923078\n"
     ]
    }
   ],
   "source": [
    "# Define of Graph Class\n",
    "G = nx.Graph()\n",
    "\n",
    "# add edges into graph.\n",
    "Edge_list = [\n",
    "    ('A','B'),('A','M'),('B','M'),\n",
    "    ('C','D'),('C','M'),('D','M'),\n",
    "    ('E','F'),('E','M'),('F','M'),\n",
    "    ('G','H'),('G','M'),('H','M'),\n",
    "    ('I','J'),('I','M'),('J','M'),\n",
    "    ('K','L'),('K','M'),('L','M'),\n",
    "]\n",
    "\n",
    "for n1, n2, in Edge_list:\n",
    "    G.add_edge(n1, n2)\n",
    "    \n",
    "# Frame layout setting\n",
    "pos = nx.spring_layout(G, seed=201703) # Frame Layout setting to use\n",
    "\n",
    "# Drawing\n",
    "nx.draw_networkx_nodes(G, pos, node_color='lightgreen')\n",
    "nx.draw_networkx_edges(G, pos)\n",
    "plt.show()\n",
    "\n",
    "# Get Average Clustering Coefficient and Transitivity\n",
    "avg_cluster_coef = nx.average_clustering(G)\n",
    "G_transitivity = nx.transitivity(G)\n",
    "\n",
    "print(f'Network Average Clustering Coefficient : {avg_cluster_coef}')\n",
    "print(f'Network Transitivity : {G_transitivity}')"
   ]
  },
  {
   "cell_type": "markdown",
   "metadata": {},
   "source": [
    "The Below case shows following properties :\n",
    "* Most nodes have low LCC\n",
    "* High degree node have high LCC\n",
    "\n",
    "Network Average Clustering Coefficient : 0.25<br>\n",
    "Network Transitivity : 0.8571428571428571"
   ]
  },
  {
   "cell_type": "code",
   "execution_count": 5,
   "metadata": {},
   "outputs": [
    {
     "name": "stdout",
     "output_type": "stream",
     "text": [
      "Network Average Clustering Coefficient : 0.25\n",
      "Network Transitivity : 0.8571428571428571\n"
     ]
    }
   ],
   "source": [
    "# Define of Graph Class\n",
    "G = nx.Graph()\n",
    "\n",
    "# add edges into graph.\n",
    "Edge_list = [\n",
    "    ('A','B'),('A','C'),('A','D'),('A','E'),\n",
    "    ('B','C'),('B','D'),('B','E'),\n",
    "    ('C','D'),('C','E'),('D','E'),\n",
    "    ('1','2'),('1','3'),\n",
    "    ('4','5'),('4','6'),\n",
    "    ('7','8'),('7','9'),\n",
    "    ('10','11'),('10','12'),\n",
    "    ('13','14'),('13','15'),\n",
    "]\n",
    "\n",
    "for n1, n2, in Edge_list:\n",
    "    G.add_edge(n1, n2)\n",
    "    \n",
    "# Get Average Clustering Coefficient and Transitivity\n",
    "avg_cluster_coef = nx.average_clustering(G)\n",
    "G_transitivity = nx.transitivity(G)\n",
    "\n",
    "print(f'Network Average Clustering Coefficient : {avg_cluster_coef}')\n",
    "print(f'Network Transitivity : {G_transitivity}')"
   ]
  }
 ],
 "metadata": {
  "kernelspec": {
   "display_name": "Python 3",
   "language": "python",
   "name": "python3"
  },
  "language_info": {
   "codemirror_mode": {
    "name": "ipython",
    "version": 3
   },
   "file_extension": ".py",
   "mimetype": "text/x-python",
   "name": "python",
   "nbconvert_exporter": "python",
   "pygments_lexer": "ipython3",
   "version": "3.6.9"
  }
 },
 "nbformat": 4,
 "nbformat_minor": 4
}
