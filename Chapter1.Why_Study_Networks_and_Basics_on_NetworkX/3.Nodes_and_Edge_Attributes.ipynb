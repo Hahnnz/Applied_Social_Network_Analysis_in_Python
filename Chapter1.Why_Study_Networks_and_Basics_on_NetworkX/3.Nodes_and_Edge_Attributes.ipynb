{
 "cells": [
  {
   "cell_type": "markdown",
   "metadata": {},
   "source": [
    "# **[Coursera]** Applied Social Network Analysis in Python\n",
    "\n",
    "## Chapter 1-3. Nodes and Edge Attributes\n",
    "* **[Lecture video](https://www.coursera.org/lecture/python-social-network-analysis/node-and-edge-attributes-hTKct)**\n",
    "\n",
    "<hr>\n",
    "\n",
    "### Nodes and Edge Attributes for **Undirected Network**\n",
    "\n",
    "what we're going to do in this lecture is we're going to learn how to access this information once we've loaded it up.<br>\n",
    "So, let's say you have a network that you constructed on Python and the edges have attributes, how do we access these attributes?"
   ]
  },
  {
   "cell_type": "code",
   "execution_count": 1,
   "metadata": {},
   "outputs": [],
   "source": [
    "# Import NetworkX and set matplotlib enable to print in ipython notebook\n",
    "import networkx as nx\n",
    "import matplotlib.pyplot as plt\n",
    "%matplotlib inline"
   ]
  },
  {
   "cell_type": "markdown",
   "metadata": {},
   "source": [
    "Let's make our own network! (the below graph is configured same as lecture show)"
   ]
  },
  {
   "cell_type": "code",
   "execution_count": 2,
   "metadata": {},
   "outputs": [
    {
     "data": {
      "image/png": "[encoded data removed]",
      "text/plain": [
       "<Figure size 432x288 with 1 Axes>"
      ]
     },
     "metadata": {},
     "output_type": "display_data"
    }
   ],
   "source": [
    "# Define of Graph Class\n",
    "G = nx.Graph()\n",
    "\n",
    "# make connections with its own relationship and weight.\n",
    "# (node1, node2, weight, relationship)\n",
    "connection_weight_relation_list = [('B', 'A', 6, 'Friend'), \n",
    "                                   ('B', 'C', 13, 'Coworker'), \n",
    "                                   ('C', 'F', 21, 'Coworker'), \n",
    "                                   ('C', 'E', 25, 'Friend'), \n",
    "                                   ('E', 'D', 2, 'Family'), \n",
    "                                   ('G', 'F', 9, 'Family'), \n",
    "                                   ('E', 'I', 10, 'Neighbor'), \n",
    "                                   ('E', 'J', 15, 'Friend'), \n",
    "                                   ('I', 'J', 3, 'Coworker'), \n",
    "                                   ('E', 'H', 9, 'Coworker')]\n",
    "# Define Relationship color\n",
    "relationship_color = {'Friend':'blue', 'Coworker':'crimson', 'Family':'goldenrod', 'Neighbor':'indigo'}\n",
    "\n",
    "\n",
    "# Add edges with its relationship.\n",
    "for n1, n2, w, r in connection_weight_relation_list:\n",
    "    G.add_edge(n1, n2, relation=r, weight=w)\n",
    "    \n",
    "# Frame layout setting\n",
    "pos = nx.spring_layout(G, seed=201703) # Frame Layout setting to use\n",
    "\n",
    "# add a weight for each edges.\n",
    "weight_info = nx.get_edge_attributes(G,'weight')\n",
    "nx.draw_networkx_edge_labels(G, pos, edge_labels=weight_info)\n",
    "\n",
    "# coloring differently by its own relationship\n",
    "for nodes, relation in nx.get_edge_attributes(G, 'relation').items():\n",
    "    color = relationship_color[relation] # Get relationship color\n",
    "    nx.draw_networkx_edges(G, pos, edgelist=[nodes], edge_color = color) # draw edges with given color\n",
    "\n",
    "# annotate relationship colors\n",
    "plt.legend(relationship_color)        \n",
    "\n",
    "# add nodes with its labels\n",
    "nx.draw_networkx_nodes(G,pos, node_color='green')\n",
    "nx.draw_networkx_labels(G,pos)\n",
    "\n",
    "plt.show()"
   ]
  },
  {
   "cell_type": "markdown",
   "metadata": {},
   "source": [
    "You can get all possible connection of nodes from Graph \"G\" using `.edges()`.\n",
    "```python\n",
    "all_edges = G.edges()\n",
    "print(f'List of all edges : {all_edges}')\n",
    "```\n",
    "> <b>output</b><br>\n",
    "> List of all edges : [('B', 'A'), ('B', 'C'), ('C', 'F'), ('C', 'E'), ('F', 'G'), ('E', 'D'), ('E', 'I'), ('E', 'J'), ('E', 'H'), ('I', 'J')]\n",
    "\n",
    "<br>\n",
    "\n",
    "You can get all possible connection of nodes and what data they have (Attributs) from Graph using `.edges(data=True)`.\n",
    "```python\n",
    "all_edges_with_data = G.edges(data=True)\n",
    "print(f'List of all edges with attributes : {all_edges_with_data}')\n",
    "```\n",
    "> <b>output</b><br>\n",
    "> List of all edges with attributes : [('B', 'A', {'relation': 'Friend', 'weight': 6}), ('B', 'C', {'relation': 'Coworker', 'weight': 13}), ('C', 'F', {'relation': 'Coworker', 'weight': 21}), ('C', 'E', {'relation': 'Friend', 'weight': 25}), ('F', 'G', {'relation': 'Family', 'weight': 9}), ('E', 'D', {'relation': 'Family', 'weight': 2}), ('E', 'I', {'relation': 'Neighbor', 'weight': 10}), ('E', 'J', {'relation': 'Friend', 'weight': 15}), ('E', 'H', {'relation': 'Coworker', 'weight': 9}), ('I', 'J', {'relation': 'Coworker', 'weight': 3})]\n",
    "\n",
    "<br>\n",
    "You can get all possible connection of nodes and data you want ('relationship' or 'weigth') from Graph using `.edges(data='relation')`.\n",
    "\n",
    "```python\n",
    "all_edges_with_data = G.edges(data='relation')\n",
    "print(f'List of all edges with relation : {all_edges_with_data}')\n",
    "```\n",
    "> <b>output</b><br>\n",
    "> List of all edges with relation : [('B', 'A', 'Friend'), ('B', 'C', 'Coworker'), ('C', 'F', 'Coworker'), ('C', 'E', 'Friend'), ('F', 'G', 'Family'), ('E', 'D', 'Family'), ('E', 'I', 'Neighbor'), ('E', 'J', 'Friend'), ('E', 'H', 'Coworker'), ('I', 'J', 'Coworker')]\n",
    "\n",
    "Also you can get A EDGE information directly.\n",
    "```\n",
    "!! Addition [2020.02.10] !!\n",
    "\n",
    "`G.edge['A']['B']` doesn't work for version '2.4'.\n",
    "you can use G.get_edge_data(u, v) : u, v are nodes.\n",
    "\n",
    "```\n",
    "\n",
    "```python\n",
    "# Original\n",
    "#G.edge['A']['B']\n",
    "edge_data = G.get_edge_data('A','B')\n",
    "print(f'A-B edge data : {edge_data}')\n",
    "\n",
    "edge_weigth = G.get_edge_data('A','B')['weight']\n",
    "print(f'A-B edge weight : {edge_weigth}')\n",
    "```\n",
    "> <b>output</b><br>\n",
    "> A-B edge data : {'relation': 'Friend', 'weight': 6}<br>\n",
    "> A-B edge weight : 6"
   ]
  },
  {
   "cell_type": "markdown",
   "metadata": {},
   "source": [
    "<hr>\n",
    "\n",
    "### Nodes and Edge Attributes for **Directed Network**\n",
    "\n",
    "What if you have a directed case? So now this is the network, the same kind of thing but now you have direction and weighted on the edges. <br>\n",
    "We would use the directed graph class and then we would add the edges in the exact same way we did before."
   ]
  },
  {
   "cell_type": "code",
   "execution_count": 3,
   "metadata": {},
   "outputs": [
    {
     "data": {
      "image/png": "[encoded data removed]",
      "text/plain": [
       "<Figure size 432x288 with 1 Axes>"
      ]
     },
     "metadata": {},
     "output_type": "display_data"
    }
   ],
   "source": [
    "# Define of Graph Class\n",
    "G = nx.DiGraph()\n",
    "\n",
    "# make connections with its own relationship and weight.\n",
    "# (node1, node2, weight, relationship)\n",
    "connection_weight_relation_list = [('B', 'A', 6, 'Friend'), \n",
    "                                   ('B', 'C', 13, 'Coworker'), \n",
    "                                   ('C', 'F', 21, 'Coworker'), \n",
    "                                   ('C', 'E', 25, 'Friend'), \n",
    "                                   ('E', 'D', 2, 'Family'), \n",
    "                                   ('G', 'F', 9, 'Family'), \n",
    "                                   ('E', 'I', 10, 'Neighbor'), \n",
    "                                   ('E', 'J', 15, 'Friend'), \n",
    "                                   ('I', 'J', 3, 'Coworker'), \n",
    "                                   ('E', 'H', 9, 'Coworker')]\n",
    "# Define Relationship color\n",
    "relationship_color = {'Friend':'blue', 'Coworker':'crimson', 'Family':'goldenrod', 'Neighbor':'indigo'}\n",
    "\n",
    "\n",
    "# Add edges with its relationship.\n",
    "for n1, n2, w, r in connection_weight_relation_list:\n",
    "    G.add_edge(n1, n2, relation=r, weight=w)\n",
    "    \n",
    "# Frame layout setting\n",
    "pos = nx.spring_layout(G, seed=201703) # Frame Layout setting to use\n",
    "\n",
    "# add a weight for each edges.\n",
    "weight_info = nx.get_edge_attributes(G,'weight')\n",
    "nx.draw_networkx_edge_labels(G, pos, edge_labels=weight_info)\n",
    "\n",
    "# coloring differently by its own relationship\n",
    "for edge, relation in nx.get_edge_attributes(G, 'relation').items():\n",
    "    color = relationship_color[relation] # Get relationship color\n",
    "    nx.draw_networkx_edges(G, pos, edgelist=[edge], edge_color = color) # draw edges with given color\n",
    "\n",
    "# add nodes with its labels\n",
    "nx.draw_networkx_nodes(G,pos, node_color='green')\n",
    "nx.draw_networkx_labels(G,pos)\n",
    "\n",
    "plt.show()"
   ]
  },
  {
   "cell_type": "markdown",
   "metadata": {},
   "source": [
    "As you can iamgine, the graph attribute function `.edges(data=)` will work as same with undirected network, but there is a moment when you try to get a specific edge data.<br>\n",
    "Let's try one by one.\n",
    "\n",
    "```python\n",
    "# B->A\n",
    "G.get_edge_data('B','A')['weight']\n",
    "print(f'B->A edge data : {edge_data}')\n",
    "\n",
    "# A->B\n",
    "G.get_edge_data('A','B')['weight']\n",
    "print(f'A->B edge data : {edge_data}')\n",
    "```\n",
    "> <b>B->A output</b><br>\n",
    "> B->A edge data : {'relation': 'Friend', 'weight': 6}<br>\n",
    "> <br><b>A->B output</b><br>\n",
    "> TypeError: 'NoneType' object is not subscriptable\n",
    "\n",
    "You need to be careful when call edges. Because of Direction Property, the edge `B->A` and `A->B` are different attributes each other\n",
    "\n",
    "This would be same with Multigraph by directed or undirected.\n",
    "\n",
    "<hr>"
   ]
  },
  {
   "cell_type": "markdown",
   "metadata": {},
   "source": [
    "### Nodes Attributes In NetworkX\n",
    "\n",
    "we could also imagine having attributes stored on the nodes. when we construct network in NetworkX, and what we can do is the following.\n",
    "\n",
    "we first construct the graph in the usual way we have done, and then we would add the node attributes."
   ]
  },
  {
   "cell_type": "code",
   "execution_count": 4,
   "metadata": {},
   "outputs": [
    {
     "data": {
      "image/png": "[encoded data removed]",
      "text/plain": [
       "<Figure size 432x288 with 1 Axes>"
      ]
     },
     "metadata": {},
     "output_type": "display_data"
    }
   ],
   "source": [
    "# Define of Graph Class\n",
    "G = nx.Graph()\n",
    "\n",
    "# make connections with its own relationship and weight.\n",
    "# (node1, node2, weight, relationship)\n",
    "connection_weight_relation_list = [('B', 'A', 6, 'Friend'), \n",
    "                                   ('B', 'C', 13, 'Coworker'), \n",
    "                                   ('C', 'F', 21, 'Coworker'), \n",
    "                                   ('C', 'E', 25, 'Friend'), \n",
    "                                   ('E', 'D', 2, 'Family'), \n",
    "                                   ('G', 'F', 9, 'Family'), \n",
    "                                   ('E', 'I', 10, 'Neighbor'), \n",
    "                                   ('E', 'J', 15, 'Friend'), \n",
    "                                   ('I', 'J', 3, 'Coworker'), \n",
    "                                   ('E', 'H', 9, 'Coworker')]\n",
    "node_roles = [('A', 'Trader'),\n",
    "              ('B', 'Trader'),\n",
    "              ('C', 'Manager'),\n",
    "              ('D', 'Analyst'),\n",
    "              ('E', 'Manager'),\n",
    "              ('F', 'Analyst'),\n",
    "              ('G', 'Trader'),\n",
    "              ('H', 'Trader'),\n",
    "              ('I', 'Manager'),\n",
    "              ('J', 'Trader'),\n",
    "             ]\n",
    "\n",
    "# Define Relationship color\n",
    "relationship_color = {'Friend':'blue', 'Coworker':'crimson', 'Family':'goldenrod', 'Neighbor':'indigo'}\n",
    "role_color = {'Trader' : 'chartreuse', 'Manager' : 'maroon', 'Analyst' : 'lavender'}\n",
    "\n",
    "\n",
    "# Add edges with its relationship.\n",
    "for n1, n2, w, r in connection_weight_relation_list:\n",
    "    G.add_edge(n1, n2, relation=r, weight=w)\n",
    "    \n",
    "# Add nodes with its roles.\n",
    "for n, role in node_roles:\n",
    "    G.add_node(n, role=role)\n",
    "    \n",
    "# Frame layout setting\n",
    "pos = nx.spring_layout(G, seed=201703) # Frame Layout setting to use\n",
    "\n",
    "# add a weight for each edges.\n",
    "weight_info = nx.get_edge_attributes(G,'weight')\n",
    "nx.draw_networkx_edge_labels(G, pos, edge_labels=weight_info)\n",
    "\n",
    "# coloring differently by its own relationship\n",
    "for edge, relation in nx.get_edge_attributes(G, 'relation').items():\n",
    "    color = relationship_color[relation] # Get relationship color\n",
    "    nx.draw_networkx_edges(G, pos, edgelist=[edge], edge_color = color) # draw edges with given color\n",
    "    \n",
    "# coloring differently by its own relationship\n",
    "for node, role in nx.get_node_attributes(G, 'role').items():\n",
    "    color = role_color[role] # Get Role color\n",
    "    nx.draw_networkx_nodes(G, pos, nodelist=[node], node_color = color) # draw nodes with role color\n",
    "\n",
    "# annotate relationship colors\n",
    "plt.legend(relationship_color)\n",
    "\n",
    "nx.draw_networkx_labels(G,pos)\n",
    "plt.show()"
   ]
  }
 ],
 "metadata": {
  "kernelspec": {
   "display_name": "Python 3",
   "language": "python",
   "name": "python3"
  },
  "language_info": {
   "codemirror_mode": {
    "name": "ipython",
    "version": 3
   },
   "file_extension": ".py",
   "mimetype": "text/x-python",
   "name": "python",
   "nbconvert_exporter": "python",
   "pygments_lexer": "ipython3",
   "version": "3.6.9"
  }
 },
 "nbformat": 4,
 "nbformat_minor": 4
}
