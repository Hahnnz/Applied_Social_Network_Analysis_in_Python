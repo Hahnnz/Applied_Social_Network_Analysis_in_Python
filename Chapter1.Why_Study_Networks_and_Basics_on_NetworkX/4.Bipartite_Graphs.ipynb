{
 "cells": [
  {
   "cell_type": "markdown",
   "metadata": {},
   "source": [
    "# **[Coursera]** Applied Social Network Analysis in Python\n",
    "\n",
    "## Chapter 1-4. Bipartite Graphs\n",
    "* **[Lecture video](https://www.coursera.org/lecture/python-social-network-analysis/bipartite-graphs-tWwx2)**\n",
    "\n",
    "<hr>\n",
    "\n",
    "### Bipartite Graph\n",
    "\n",
    "- **Bipartite Graph** : a graph whose nodes can be split into two sets L and R and every edge connects a node in L with a node in R.\n",
    "\n",
    "a graph is a bipartite graph if it has two sets of nodes which we call L and R, and every single edge connects a node from L to R. \n",
    "So, no edge connects a node from L to another node in L, and no edge connects a node in R to another node in R."
   ]
  },
  {
   "cell_type": "code",
   "execution_count": 7,
   "metadata": {},
   "outputs": [],
   "source": [
    "# Import NetworkX and set matplotlib enable to print in ipython notebook\n",
    "# Bipartite functions cannot import automatically, so we need to import explicitly.\n",
    "from networkx.algorithms import bipartite\n",
    "import networkx as nx\n",
    "import matplotlib.pyplot as plt\n",
    "%matplotlib inline"
   ]
  },
  {
   "cell_type": "code",
   "execution_count": 2,
   "metadata": {},
   "outputs": [
    {
     "data": {
      "image/png": "[encoded data removed]",
      "text/plain": [
       "<Figure size 432x288 with 1 Axes>"
      ]
     },
     "metadata": {},
     "output_type": "display_data"
    }
   ],
   "source": [
    "B = nx.Graph() # No separate class for bipartite graphs.\n",
    "\n",
    "Fan_group = ['A','B','C','D','E']\n",
    "Basketball_group = [1,2,3,4]\n",
    "\n",
    "# You can add nodes using just one line specifying its set of items.\n",
    "B.add_nodes_from(Fan_group, bipartite=0) # Label one set of nodes 0\n",
    "B.add_nodes_from(Basketball_group, bipartite=1) # Label other set of nodes 1\n",
    "\n",
    "# also, you can add edges by one line.\n",
    "B.add_edges_from([('A',1), ('B',1), ('C',1), ('C',3), ('D',2), ('E',3), ('E',4)])\n",
    "\n",
    "# We can draw bipartite graph but you need to fix the node locations.\n",
    "# different with previous section, now we use `bipartite_layout`.\n",
    "pos = nx.bipartite_layout(B, Fan_group)\n",
    "nx.draw_networkx(B, pos)"
   ]
  },
  {
   "cell_type": "markdown",
   "metadata": {},
   "source": [
    "### Checking if a graph is bipartite\n",
    "You can check whether your graph is configured properly as 'Bipartite' graph, you can make sure your graph as Bipartite using `nx.is_bipartite()`\n",
    "```python\n",
    "nx.is_bipartite(B)\n",
    "```\n",
    "> **output**<br>\n",
    "> True\n",
    "\n",
    "<br>\n",
    "So if you add new edge among same group, then bipartite will be broken.\n",
    "\n",
    "```python\n",
    "B.add_edge('A','B')\n",
    "nx.is_bipartite(B)\n",
    "```\n",
    "> **output**<br>\n",
    "> False\n",
    "\n",
    "<br>\n",
    "you can remove the connection that disrupt bipartite using `nx.remove_edge(u,v)`.\n",
    "\n",
    "```python\n",
    "B.remove_edge('A','B')\n",
    "nx.is_bipartite(B)\n",
    "```\n",
    "> **output**<br>\n",
    "> True\n",
    "\n",
    "\n",
    "\n",
    "### Checking if a set of nodes is a bipartition of a graph.\n",
    "\n",
    "you can check the input sets in the graph using `bipartite.is_bipartite_node_set(graph, node_set)`\n",
    "\n",
    "```python\n",
    "Fan_group = set(['A','B','C','D','E'])\n",
    "bipartite.is_bipartite_node_set(B, Fan_group)\n",
    "```\n",
    "> **output**<br>\n",
    "> True\n",
    "\n",
    "<br>\n",
    "\n",
    "```python\n",
    "Basketball_group = set([1,2,3,4])\n",
    "bipartite.is_bipartite_node_set(B, Fan_group)\n",
    "```\n",
    "> **output**<br>\n",
    "> True\n",
    "\n",
    "if you input that is not exist group on graph, it will return `False`\n",
    "\n",
    "```python\n",
    "hybrid_group = set([1,2,3,4,'A'])\n",
    "bipartite.is_bipartite_node_set(B, hybrid_group)\n",
    "```\n",
    "> **output**<br>\n",
    "> False\n",
    "\n",
    "\n",
    "<br>\n",
    "\n"
   ]
  }
 ],
 "metadata": {
  "kernelspec": {
   "display_name": "Python 3",
   "language": "python",
   "name": "python3"
  },
  "language_info": {
   "codemirror_mode": {
    "name": "ipython",
    "version": 3
   },
   "file_extension": ".py",
   "mimetype": "text/x-python",
   "name": "python",
   "nbconvert_exporter": "python",
   "pygments_lexer": "ipython3",
   "version": "3.6.9"
  }
 },
 "nbformat": 4,
 "nbformat_minor": 4
}
